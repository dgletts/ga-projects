{
 "cells": [
  {
   "cell_type": "markdown",
   "metadata": {},
   "source": [
    "# Project 1 - David Letts  "
   ]
  },
  {
   "cell_type": "markdown",
   "metadata": {},
   "source": [
    "### Read and evaluate the following problem statement: \n",
    "Using UCLA graduate program admission data, determine how likely previous candidates are to be admitted into a graduate program using applicants GPA, GRE Score, Rank of applicant's alma undergraduate alma mater, and result if that applicant was admitted or not.\n"
   ]
  },
  {
   "cell_type": "markdown",
   "metadata": {},
   "source": [
    "#### 1. What is the outcome?"
   ]
  },
  {
   "cell_type": "markdown",
   "metadata": {},
   "source": [
    "Admitted applicant indicator (yes/no)"
   ]
  },
  {
   "cell_type": "markdown",
   "metadata": {},
   "source": [
    "#### 2. What are the predictors/covariates? "
   ]
  },
  {
   "cell_type": "markdown",
   "metadata": {},
   "source": [
    "GPA, GRE Score, Rank of undergraduate alma mater"
   ]
  },
  {
   "cell_type": "markdown",
   "metadata": {},
   "source": [
    "#### 3. What is the hypothesis?"
   ]
  },
  {
   "cell_type": "markdown",
   "metadata": {},
   "source": [
    "GPA, GRE and undergraduate ranking will allow us to predict if an applicant will be admitted into the graduate program"
   ]
  },
  {
   "cell_type": "markdown",
   "metadata": {},
   "source": [
    "#### 4. Create a data dictionary "
   ]
  },
  {
   "cell_type": "markdown",
   "metadata": {},
   "source": [
    "Variable | Description | Type of Variable\n",
    "---| ---| ---\n",
    "Admit | application resulting decision 0 = no admission, 1 = admitted | categorical, binary\n",
    "GRE | integer, GRE test score result 200 - 800| discrete\n",
    "GPA | float, undergraduate Grade Point Average 0.0 - 4.0 | discrete \n",
    "Rank | 1 = no prestige, 2 = low prestige, 3 = good prestige, 4 = excellent prestige | categorical\n",
    "\n"
   ]
  },
  {
   "cell_type": "markdown",
   "metadata": {
    "collapsed": true
   },
   "source": [
    "#### 5. What is your hypothesis?"
   ]
  },
  {
   "cell_type": "markdown",
   "metadata": {},
   "source": [
    "Applicants who attended prestigious undergraduate programs are more likely to be admitted into graduate programs. "
   ]
  },
  {
   "cell_type": "markdown",
   "metadata": {},
   "source": [
    "### Problem Statement"
   ]
  },
  {
   "cell_type": "markdown",
   "metadata": {},
   "source": [
    "Determine for prospective graduate students if there is a significant correlation between their undergraduate alma mater's prestige and admission into a graduate program using UCLA's graduate program admission data."
   ]
  },
  {
   "cell_type": "markdown",
   "metadata": {},
   "source": [
    "### Risks and Assumptions"
   ]
  },
  {
   "cell_type": "markdown",
   "metadata": {},
   "source": [
    "- The relative time period of the UCLA graduate program admission data set is unknown, could suggest exploring whether this could be obtained. \n",
    "- Assuming the distribution is normal.\n",
    "- Unclear how alma mater prestige is derived"
   ]
  },
  {
   "cell_type": "markdown",
   "metadata": {},
   "source": [
    "### Exploratory Analysis"
   ]
  },
  {
   "cell_type": "markdown",
   "metadata": {},
   "source": [
    "1. Check for missing data and remove those rows\n",
    "2. Use histograms and boxplots to understand feature distribution\n",
    "3. Check summary statistics like std and mean to understand if feature distribution is normal\n",
    "4. Check for multicollinearity between covariates"
   ]
  },
  {
   "cell_type": "markdown",
   "metadata": {},
   "source": [
    "### Alternative Problem Statement"
   ]
  },
  {
   "cell_type": "markdown",
   "metadata": {},
   "source": [
    "Determine for prospective graduate students if GRE score has a significant association with graduate program admission using UCLA's graduate program admission data."
   ]
  },
  {
   "cell_type": "markdown",
   "metadata": {},
   "source": [
    "### Alternative Problem Statement RIsks and Assumptions"
   ]
  },
  {
   "cell_type": "markdown",
   "metadata": {},
   "source": [
    "- Time period for the UCLA graduate program admission data set is unknown, GRE score and relative weight in current UCLA admissions may be dissimilar\n",
    "- Unclear if GRE is required for all graduate programs\n",
    "- "
   ]
  }
 ],
 "metadata": {
  "kernelspec": {
   "display_name": "Python 3",
   "language": "python",
   "name": "python3"
  },
  "language_info": {
   "codemirror_mode": {
    "name": "ipython",
    "version": 3
   },
   "file_extension": ".py",
   "mimetype": "text/x-python",
   "name": "python",
   "nbconvert_exporter": "python",
   "pygments_lexer": "ipython3",
   "version": "3.6.4"
  }
 },
 "nbformat": 4,
 "nbformat_minor": 1
}
